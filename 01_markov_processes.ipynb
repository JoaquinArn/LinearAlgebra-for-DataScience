{
  "nbformat": 4,
  "nbformat_minor": 0,
  "metadata": {
    "colab": {
      "provenance": []
    },
    "kernelspec": {
      "name": "python3",
      "display_name": "Python 3"
    },
    "language_info": {
      "name": "python"
    }
  },
  "cells": [
    {
      "cell_type": "code",
      "source": [
        "import numpy as np\n",
        "import matplotlib.pyplot as plt"
      ],
      "metadata": {
        "id": "h5glZuu-4eBV"
      },
      "execution_count": null,
      "outputs": []
    },
    {
      "cell_type": "markdown",
      "source": [
        "## Procesos de Markov"
      ],
      "metadata": {
        "id": "feJ_5MinTecB"
      }
    },
    {
      "cell_type": "markdown",
      "source": [
        "Un proceso de Markov es una sucesión de vectores $v_k$ con $k \\in \\mathbb{N}_0$ donde pensamos que $v_k$ indica el estado de un sistema en el paso k-ésimo. \\\n",
        "$v_0$ es el estado inicial, y en cada paso la trancisión al siguiente estado está dada por una matriz de Markov $M$ de forma tal que $v_{k+1} = Mv_k$. \\\n",
        "$M$ es una matriz de Markov si es estcoástica por columnas, es decir: \\\n",
        "- Todas las entradas $m_{ij}$ de $M$ son no negativas.\n",
        "- Cada columna de $M$ suma uno.\n",
        "\n",
        "Las matrices positivas ($m_{ij} \\geq 0$) en general tienen un autovalor de mayor módulo real y positivo. \\\n",
        "En el caso de las matrices de Markov, ese autovalor es el $1$. Toda matriz de Markov tiene al $1$ como autovalor; y si $\\lambda$ es cualquier otro autovalor, entonces $|\\lambda| \\leq 1$. \\\n",
        "Luego, los autovalores de $M$ pueden ser el $1$ (siempre, y puede tener multiplicidad mayor a uno), -1, 0; o cualquier otro número de módulo menor o igual a uno.\n",
        "\n",
        "Si un vector $v = (v_1,...,v_n)$ cumple que sus entradas son no negativas y suman uno, decimos que es un vector estocástico o de probabilidad. El estado global del sistema, $v$, está dado por los estados $v_j, 1 \\leq j \\leq n$ del vector $v$. Si $v$ es de probabilidad, podemos pensar que cada $v_j$ corresponde a la probabilidad de estar en el estado j-ésimo, o la proporción de la población que se encuentra en ese estado.\n",
        "\n",
        "Cada entrada en la matriz $M$ representa la probabilidad de pasar de un estado\n",
        "$j$ a un estado $i$ es un paso, es decir, $m_{ij}$ está asociada a la transición del estado $j$ del vector $v_k$ al estado $i$ del vector $v_{k+1}$.\n",
        "\n",
        "En generak, $v_k = M^kv_0$\n",
        "\n",
        "Un estado de equilibrio es $v$ tal que $v = Mv$ (o sea, $v$ es un autovector de autovalor $1$). Estar en equilibrio significa que el estado del sistema, $v$, permanece constante a lo largo del tiempo. Se suele pedir que $v$ sea de probabilidad para hablar de la existencia de un estado de equilibrio.\n",
        "Siempre hay un estado de equilibrio para toda matriz de Markov (porque $1$ siempre es autovalor). Si la multiplicidad de $1$ como autovalor es mayor a uno, entonces podría haber más de un estado de equilibrio.\n",
        "\n",
        "$\\underline{Def:} \\quad v^{∞}$ vector de probabilidad es un estado límite si \\\n",
        "$\\hspace{7cm} \\exists v^{(0)} / lim_{k → ∞} M^kv^{(0)} = v^{∞}$\n",
        "\n",
        "$\\underline{Prop:} \\quad v$ es un estado de equilibrio $\\iff v$ es un estado límite.\n",
        "\n",
        "\\\n",
        "\n",
        "Si $v_0$ es un estado de equilibrio, entonces el límite existe y es ese $v_0$. Para un $v_0$ general, la existencia de $v^{∞}$ depende de la existencia del límite de la matriz $M^k$.\\\n",
        "Existirá $M^{∞}$ si y solo si el único autovalor de módulo uno es el $1$. \\\n",
        "Esta $M^{∞}$ me dice cómo es el estado límite $v^{∞}$ para cualquier $v_0: v^{∞} = M^{∞}v_0$. \\\n",
        "Si la multiplicidad geométrica de $1$ como autovalor de $M$ es uno, entonces si $w$ vector de probabilidad es un autovector asociado al $1$, luego: \\\n",
        "$\\hspace{8cm} M^{∞} = (w|...|w) \\quad$ ($w$ puesto como columna de la matriz) \\\n",
        "En este caso, el estado límite $v^{∞}$ existe y es único; mientras que si la multiplicidad geométrica del $1$ como autovalor fuera mayor a uno, entonces si bien existe $v^{∞}$ para todo estado inicial $v_0$, este límite no será único, sino que será CL de los vectores de probabilidad que son autovectores asociados al $1$.\n",
        "\n"
      ],
      "metadata": {
        "id": "25zwimrfTpr7"
      }
    },
    {
      "cell_type": "markdown",
      "source": [
        "# Ejercicios"
      ],
      "metadata": {
        "id": "Grbof3RxeDYr"
      }
    },
    {
      "cell_type": "markdown",
      "source": [
        "\"\"Sea $\\vec{1}$ el vector con todas sus coordenadas iguales a 1. Mostrar que $\\vec{1}^tP = \\vec{1}$, con $P$ de Markov/estocástica\"\"\n",
        "\n",
        "Llamemos $v = (v_1, ... , v_n)$ a $\\ v = \\vec{1}^tP$\n",
        "\n",
        "Luego, $v_i$ será igual a $\\vec{1}^tP_{ki}$ con $k = 1,...,n$ (la columna $i$ de $P$)\n",
        "\n",
        "Entonces, $v_i = \\sum \\limits_{k=1}^n P_{ki}*1$ pues $1^t = (1,..,1)$\n",
        "\n",
        "$v_i = \\sum \\limits_{k=1}^n P_{ki}*1 = \\sum \\limits_{k=1}^n P_{ki} =$ suma de los elementos de la columna $i$.\n",
        "\n",
        "Y como $P$ es de Markov $\\rightarrow$ $P$ estocástica por columnas $\\rightarrow$ sus columnas suman 1.\n",
        "\n",
        "$ \\therefore v_i = \\sum \\limits_{k=1}^n P_{ki}*1 \\quad \\forall i \\in \\{1,...,n\\}$\n",
        "\n",
        "Es así que $v = \\vec{1}$ como se quería probar.\n",
        "\n",
        "$\\hspace{13cm} \\huge\\boxtimes$"
      ],
      "metadata": {
        "id": "s0kOohtSewiV"
      }
    },
    {
      "cell_type": "markdown",
      "source": [
        "\"Probar que si $P$ y $Q$ son matrices estocásticas, entonces: $PQ$ es estocástica. \"\n",
        "\n",
        "\\\n",
        "\n",
        "Llamo $R = PQ$. Que $R$ sea estocástica implica:\n",
        "\n",
        "1) $R_{ij} \\geq 0 \\quad \\forall \\ 1 \\leq i,j \\leq n$. Luego, como $P$ y $Q$ son estocásticas, entonces todas sus entradas son positivas. Luego, todo elemento $(PQ)_{ij}$ será $\\geq 0$ pues suma y multiplicación de no negativos arroja valores no negativos.\n",
        "\n",
        "2) Cada columna de $R$ suma 1.\n",
        "\n",
        "Veamos cada columna de $R: R_{*j} = PQ_{*j}$ (la columna $j$ de $R$ es la matriz $P$ por la columna $j$ de $Q$).\n",
        "\n",
        "Llamo $v = Q_{*j}$ (la columna $j$ de $Q$), $v \\in \\mathbb{K}^{n} ⇒ R_{*j} = Pv$\n",
        "\n",
        "Luego, analizamos qué ocurre con $Pv$. Como $P \\in \\mathbb{K}^{n*n}, v \\in \\mathbb{K}^n → Pv \\in \\mathbb{K}^n$ (justamente una columna). Al ser columna de $R$, yo quiero que sus componentes sumen 1.\n",
        "\n",
        "$\\Rightarrow R_{*j} = Pv$\n",
        "\n",
        "$\\sum \\limits_{i = 1}^n R_{*j} = \\sum \\limits_{i=1}^n \\sum \\limits_{j=1}^n P_{ij}v_j = \\sum \\limits_{j=1}^n \\sum \\limits_{i=1}^n P_{ij}v_j $\n",
        "\n",
        "Pero, como $P$ es de Markov, $\\sum \\limits_{i=1}^n P_{ij} = 1$ (o sea, cada columna $j$ de $P$ suma 1)\n",
        "\n",
        "Queda entonces $\\sum \\limits_{i = 1}^n R_{*j} = \\sum \\limits_{i=1}^n v_j$\n",
        "\n",
        "Y, al definir $v = Q_{*j}$ columna de $Q \\Rightarrow \\sum \\limits_{i=1}^n v_j = 1$.\n",
        "\n",
        "Es entonces que, finalmente:\n",
        "\n",
        "$\\sum \\limits_{i = 1}^n R_{*j} = 1 \\quad \\forall j = \\{1,...,n\\}$\n",
        "\n",
        "$\\therefore R_{ij} \\geq 0, \\quad \\sum \\limits_{i = 1}^n R_{*j} = 1 \\quad → R$ es de Markov.\n",
        "\n",
        "$\\hspace{13cm} \\huge\\boxtimes$\n",
        "\n",
        "\\\n",
        "\n",
        "De esto se desprende que $P^n$ es de Markov, y que $ P^nQ^m$ también lo es."
      ],
      "metadata": {
        "id": "LB3MwJdEe8Ps"
      }
    },
    {
      "cell_type": "markdown",
      "source": [
        "# Ejercicio elecciones presidenciales"
      ],
      "metadata": {
        "id": "X_2FFQno6fR1"
      }
    },
    {
      "cell_type": "markdown",
      "source": [
        "\"\"Supongamos que los resultados de las elecciones presidenciales del próximo 22 de octubre depende únicamente de los votos de las primarias del 13 de agosto. \\\n",
        "Consideremos los tres candidatos más votados,denominados L, T y G. \\\n",
        "Los encuestadores nos dicen que:\\\n",
        " - Para los votantes de L:\n",
        "  - 80% mantiene su voto a L\n",
        "  - Ninguno cambiará su voto a G\n",
        " - Para los votantes de T:\n",
        "  - El porcentaje de gente que cambia su voto a G y el porcentaje de gente que cambia su voto a L es el mismo.\n",
        "  -El porcentaje de gente que cambia su voto es el mismo porcentaje de gente que cambia su voto para los votantes de L.\n",
        " - Para los votantes de G:  \n",
        "  - 40% mantiene su voto a G\n",
        "  - El resto se divide equitativamente entre L y T\n",
        "\n",
        "$(a)$ Construir la matriz de transición $A$ del proceso. \\\n",
        "$(b)$ Si el 13 de agosto la cantidad de votos para cada uno de los candidatos fue:\n",
        " - L:30%\n",
        " - T:34%\n",
        " - G:36% \\\n",
        " determinar el porcentaje esperado para cada candidato en las elecciones del 22 de octubre.\n",
        "\n",
        "$(c)$ Asumiendo que el proceso seguirá a largo plazo para proximas elecciones (considerando como una unidad de tiempo el tiempo entre una elección y la siguiente), decidir si existe un estado límite para los datos iniciales dados,y calcular, si existe, $A^{∞}$.\"\"\n",
        "\n",
        "#Resolución ejercicio elecciones\n",
        "\n",
        "$(a)$ Construyo la matriz de transición $A$ teniendo en cuenta que cada elemento $a_{ij}$ describe la probabilidad de pasar de ser votante de $j$ a ser votante de $i$.\n",
        "\n",
        "Luego, hablando en porcentajes, las columnas entonces deberán sumar uno (pues registro para una columna $j$ las posibilidades de pasar a los distintos candidatos).\n",
        "\n",
        "Además, tomo entradas positivas, pues cada celda expresa la posibilidad de pasar de votar al candidato $i$ luego de haber votado al candidato $j$.\n",
        "\n",
        "Es entonces que formo la matriz de Markov $A =\n",
        "\\begin{bmatrix}\n",
        "0.8 & 0.1 & 0.3 \\\\\n",
        "0.2 & 0.8 & 0.3 \\\\\n",
        "0 & 0.1 & 0.4\n",
        "\\end{bmatrix}\n",
        "$\n",
        "\n",
        "Aclaraciones:\n",
        "\n",
        "- La proporción de gente que cambia su voto después de haber votado a L es 20%\n",
        "- De los votantes de G, el 30% pasan a votar a L y otro 30% a T.\n",
        "- De los votantes de T, el 80% continúa votando a T y el 20% cambia su voto (de manera equitativa, es decir, un 10% pasa a votar a L y el otro 10% a G).\n",
        "\n",
        "\\\n",
        "\n",
        "$(b)$ $\\pi^{(0)} = (0.3, 0.34, 0.36)$ proporción de votantes que tuvieron los candidatos L, T y G (respectivamente) el 13 de agosto.\n",
        "\n",
        "Para determinar el estado $\\pi^{(1)} = $ proporción esperada de votantes para cada candidato el 22 de octubre \\\n",
        "utilizo mi matriz de Markov $A$ que describe las probabilidades de pasar de votar al candidato $i$ luego de haber votado al candidato $j$ tras una elección (es importante notar que, por enunciado, las elecciones del 22 de octubre solo dependen de los resultados de la elección del 13 de agosto).\n",
        "\n",
        "Luego, esto implica que $\\pi^{(1)} = A\\pi^{(0)}$"
      ],
      "metadata": {
        "id": "YNsvOHmmvrZn"
      }
    },
    {
      "cell_type": "code",
      "source": [
        "A = np.array([[0.8, 0.1, 0.3],\n",
        "     [0.2, 0.8, 0.3],\n",
        "     [0, 0.1, 0.4]])\n",
        "\n",
        "estado_inicial = np.array([0.3, 0.34, 0.36])\n",
        "\n",
        "estado_final = np.dot(A, estado_inicial)\n",
        "\n",
        "print('El porcentaje esperado para cada candidato en las elecciones del 22 de octubre es:')\n",
        "print(f'Para L: {estado_final[0]:.2%}')\n",
        "print(f'Para T: {estado_final[1]:.2%}')\n",
        "print(f'Para G: {estado_final[2]:.2%}')"
      ],
      "metadata": {
        "colab": {
          "base_uri": "https://localhost:8080/"
        },
        "id": "5kaSLFrV3ZNu",
        "outputId": "5d0c10f0-efc2-4f0f-bd90-2072d45dff15"
      },
      "execution_count": null,
      "outputs": [
        {
          "output_type": "stream",
          "name": "stdout",
          "text": [
            "El porcentaje esperado para cada candidato en las elecciones del 22 de octubre es:\n",
            "Para L: 38.20%\n",
            "Para T: 44.00%\n",
            "Para G: 17.80%\n"
          ]
        }
      ]
    },
    {
      "cell_type": "markdown",
      "source": [
        "$(c)$ Existirá estado límite para todo dato inicial $\\pi^{(0)}$ si y solo si $\\lambda = 1$ es el único autovalor de módulo uno de la matriz $A$ (notar que, por propiedad, $\\lambda = 1$ es siempre autovalor de $A$).\n",
        "\n",
        "Entonces, para determinar si existe el estado límite para todo $\\pi{(0)}$, le busco los autovalores a la matriz $A$."
      ],
      "metadata": {
        "id": "oa6VU__F6Tsu"
      }
    },
    {
      "cell_type": "code",
      "source": [
        "autovalores = np.linalg.eigvals(A)\n",
        "print(f'Los autovalores de A son {autovalores}')"
      ],
      "metadata": {
        "colab": {
          "base_uri": "https://localhost:8080/"
        },
        "id": "RB8oS0EY8QEy",
        "outputId": "8c6164ae-79bf-4974-a486-1edca8ccc2b8"
      },
      "execution_count": null,
      "outputs": [
        {
          "output_type": "stream",
          "name": "stdout",
          "text": [
            "Los autovalores de A son [1.         0.64142136 0.35857864]\n"
          ]
        }
      ]
    },
    {
      "cell_type": "markdown",
      "source": [
        "Obtuve tres autovalores reales distintos, donde el único de modulo uno es $\\lambda = 1$\n",
        "\n",
        "$\\therefore \\ \\exists$ estado límite $\\forall \\pi^{(0)}$\n",
        "\n",
        "$\\Rightarrow $ existe estado límite para el estado incial dado $\\pi{(0)} = (0.3, 0.34, 0.36)$\n",
        "\n",
        "Y este estado límite es $\\pi^{(∞)} =$ vector de probabilidad que es autovector asociado a $\\lambda = 1$\n",
        "\n",
        "Llamemos $v$ a ese autovector. Luego: $A = (v|...|v)$ pues el $1$ es el único autovalor de módulo uno y su multiplicidad como autovalor de $A$ es uno."
      ],
      "metadata": {
        "id": "6MbCI_ns832i"
      }
    },
    {
      "cell_type": "code",
      "source": [
        "# Aplicamos el método para un v0 cualquiera\n",
        "v0 = np.array([1,0,0])\n",
        "\n",
        "print('A por v0 =', A @ v0)\n",
        "print('A^2 por v0 =', A @ A @ v0)\n",
        "\n",
        "# Hallo v_inf con una potencia grande de la matriz (A^84, por ejemplo)\n",
        "v_inf = np.matmul(np.linalg.matrix_power(A,84),v0)\n",
        "print('A^84 por v0 =', np.matmul(np.linalg.matrix_power(A,84),v0))"
      ],
      "metadata": {
        "colab": {
          "base_uri": "https://localhost:8080/"
        },
        "id": "uSMRNYMT8cjI",
        "outputId": "89e0daa2-6929-44f5-a9ca-a9e34749b9b3"
      },
      "execution_count": null,
      "outputs": [
        {
          "output_type": "stream",
          "name": "stdout",
          "text": [
            "A por v0 = [0.8 0.2 0. ]\n",
            "A^2 por v0 = [0.66 0.32 0.02]\n",
            "A^84 por v0 = [0.39130435 0.52173913 0.08695652]\n"
          ]
        }
      ]
    },
    {
      "cell_type": "code",
      "source": [
        "# Verifico que v_inf es vector de equilibrio\n",
        "print('A por v_inf =',A@v_inf)"
      ],
      "metadata": {
        "colab": {
          "base_uri": "https://localhost:8080/"
        },
        "id": "5BSGH_x_AgqT",
        "outputId": "bf1db8ac-34ac-48a9-f395-5a71fbfe0432"
      },
      "execution_count": null,
      "outputs": [
        {
          "output_type": "stream",
          "name": "stdout",
          "text": [
            "A por v_inf = [0.39130435 0.52173913 0.08695652]\n"
          ]
        }
      ]
    },
    {
      "cell_type": "code",
      "source": [
        "# Finalmente, escribo A_inf\n",
        "A_inf = np.array([v_inf, v_inf, v_inf])\n",
        "print('A^∞ =', A_inf)"
      ],
      "metadata": {
        "colab": {
          "base_uri": "https://localhost:8080/"
        },
        "id": "Rce2reoKAzwd",
        "outputId": "5b945ca9-155c-4be8-8fd1-375cddc355fd"
      },
      "execution_count": null,
      "outputs": [
        {
          "output_type": "stream",
          "name": "stdout",
          "text": [
            "A^∞ = [[0.39130435 0.52173913 0.08695652]\n",
            " [0.39130435 0.52173913 0.08695652]\n",
            " [0.39130435 0.52173913 0.08695652]]\n"
          ]
        }
      ]
    },
    {
      "cell_type": "markdown",
      "source": [
        "# Ejercicio acciones"
      ],
      "metadata": {
        "id": "8R8LA1rYDsT5"
      }
    },
    {
      "cell_type": "markdown",
      "source": [
        "Consideremos un modelo simplificado para el precio de una acción, donde cada día el precio puede ir en alza (A), en baja (B) o permanecer constante (C). Las probabilidades de pasar de un estado al otro están representadas en el siguiente diagrama:"
      ],
      "metadata": {
        "id": "TH3JPCY3D16X"
      }
    },
    {
      "cell_type": "markdown",
      "source": [
        "![image.png](data:image/png;base64,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)"
      ],
      "metadata": {
        "id": "AwRy5mOBD_Qr"
      }
    },
    {
      "cell_type": "markdown",
      "source": [
        "1.   Determinar la matriz $M$ de transición del proceso.\n",
        "2.   Si la acción comienza el primer día en alza (A), ¿cuál es la probabilidad de que al cuarto día siga en alza?\n",
        "3.   ¿Existe un vector límite $v_\\infty$ para todo vector inicial $v_0$? ¿Existe la matriz $M^\\infty$?"
      ],
      "metadata": {
        "id": "h6hlsUlpEKWh"
      }
    },
    {
      "cell_type": "markdown",
      "source": [
        "## Resolución ejercicio acciones"
      ],
      "metadata": {
        "id": "kNsFhc55EUrq"
      }
    },
    {
      "cell_type": "markdown",
      "source": [
        "$1)$ Tomo los vector de estado con la forma $v = (A,B,C)$ donde la coordenada $A$ describe la probabilidad de que la acción esté en alza, la coordenada $B$ que esté en baja, y la coordenada $C$ las probabilidades de que se mantenga constante. \\\n",
        "La matriz de transición $M$ queda: \\\n",
        "$M = \\begin{bmatrix}\n",
        "0.4 & 0.4 & 0.2 \\\\\n",
        "0.4 & 0.4 & 0.2 \\\\\n",
        "0.2 & 0.2 & 0.6\n",
        "\\end{bmatrix}$\n",
        "\n",
        "donde la primer columna describe las probabilidades de la acción de pasar a cada estado después de haber estado en alza; la segunda columna describe las probabilidades de la acción de pasar a cada estado después de haber estado en baja; la tercera columna describe las probabilidades de la acción de pasar a cada estado después de haber mantenido valor constante.\n",
        "\n",
        "\\\n",
        "\n",
        "$2)$ La acción comenzó en alza, es decir, escrito como vector de estado, $v_0 = (1,0,0). $ \\\n",
        "Quiero ver entonces la primer coordenada de $v_3$, o sea, las probabilidades de que la acción esté en alza el cuarto día (si el primer día es el día 0, el cuarto será el día 3).\n"
      ],
      "metadata": {
        "id": "osdLmzy8EjTc"
      }
    },
    {
      "cell_type": "code",
      "source": [
        "# Escribo matriz M y el estado inicial v0\n",
        "M = np.array([[0.4, 0.4, 0.2],[0.4, 0.4, 0.2], [0.2, 0.2, 0.6]])\n",
        "v0 = np.array([1,0,0])\n",
        "\n",
        "# Calcul0 v3 (las probabilidades de la acción de estar en cada estado en el cuarto dia) como M^3v0\n",
        "v3 = np.matmul(np.linalg.matrix_power(M,3), v0)\n",
        "print(f'La probabilidad de que la acción siga en alza es de un {v3[0]:.2%}')"
      ],
      "metadata": {
        "colab": {
          "base_uri": "https://localhost:8080/"
        },
        "id": "osRmAGM1I49M",
        "outputId": "5d340c71-9bc9-436b-cb01-26768a3ba232"
      },
      "execution_count": null,
      "outputs": [
        {
          "output_type": "stream",
          "name": "stdout",
          "text": [
            "La probabilidad de que la acción siga en alza es de un 34.40%\n"
          ]
        }
      ]
    },
    {
      "cell_type": "markdown",
      "source": [
        "$3)$ Para que exista estado límite $v_{\\infty}$ para todo estado inicial $v_0$, debe ocurrir que $\\lambda = 1$ sea el único autovalor de $M$ cuyo módulo sea uno. Si es ese el caso, entonces existirá $M^{\\infty}$"
      ],
      "metadata": {
        "id": "TrYsLxI4JqSa"
      }
    },
    {
      "cell_type": "code",
      "source": [
        "# Busco los autovalores de M\n",
        "autovalores = np.linalg.eigvals(M)\n",
        "print(f'Los autovalores de M son: {autovalores}')"
      ],
      "metadata": {
        "colab": {
          "base_uri": "https://localhost:8080/"
        },
        "id": "Vyr0dRa2Du6v",
        "outputId": "f40b06a8-a795-4ba2-c7f0-9ea8e13eac6d"
      },
      "execution_count": null,
      "outputs": [
        {
          "output_type": "stream",
          "name": "stdout",
          "text": [
            "Los autovalores de M son: [ 1.00000000e+00 -4.33680869e-19  4.00000000e-01]\n"
          ]
        }
      ]
    },
    {
      "cell_type": "markdown",
      "source": [
        "El $1$ es el único autovalor de módulo uno, es entonces que existirá estado límite para todo estado inicial $v_0$, así como también $M^{\\infty}$."
      ],
      "metadata": {
        "id": "FgCTcEiiK-uZ"
      }
    },
    {
      "cell_type": "code",
      "source": [
        "# Analizamos la convergencia a lo largo del tiempo para un v0 cualquiera\n",
        "v = np.array([0.5,0.5,0])\n",
        "tmax = 20\n",
        "t=np.linspace(0,tmax, tmax+1)\n",
        "\n",
        "x=np.zeros((len(v),tmax+1))\n",
        "x[:,0]=v\n",
        "for i in range(1,tmax+1):\n",
        "    x[:,i]=M@x[:,i-1]\n",
        "\n",
        "plt.plot(t,x[0,:], label='A', color = 'blue')\n",
        "plt.plot(t,x[1,:], label='B', linestyle = '--', color = 'yellow')\n",
        "plt.plot(t,x[2,:], label='C', linestyle = '-.', color = 'red')\n",
        "plt.legend()\n",
        "plt.show()"
      ],
      "metadata": {
        "colab": {
          "base_uri": "https://localhost:8080/",
          "height": 430
        },
        "id": "IqwsjGxILQdH",
        "outputId": "b2872151-1b3a-4ea8-ef3f-5622c711b0ec"
      },
      "execution_count": null,
      "outputs": [
        {
          "output_type": "display_data",
          "data": {
            "text/plain": [
              "<Figure size 640x480 with 1 Axes>"
            ],
            "image/png": "[encoded data removed]"
          },
          "metadata": {}
        }
      ]
    }
  ]
}